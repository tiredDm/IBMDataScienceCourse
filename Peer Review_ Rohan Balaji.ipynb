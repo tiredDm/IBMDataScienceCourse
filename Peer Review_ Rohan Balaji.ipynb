{
  "metadata": {
    "language_info": {
      "codemirror_mode": {
        "name": "python",
        "version": 3
      },
      "file_extension": ".py",
      "mimetype": "text/x-python",
      "name": "python",
      "nbconvert_exporter": "python",
      "pygments_lexer": "ipython3",
      "version": "3.8"
    },
    "kernelspec": {
      "name": "python",
      "display_name": "Pyolite",
      "language": "python"
    }
  },
  "nbformat_minor": 4,
  "nbformat": 4,
  "cells": [
    {
      "cell_type": "markdown",
      "source": "PEER GRADED ASSIGNMENT",
      "metadata": {}
    },
    {
      "cell_type": "markdown",
      "source": "This is the Introduction.",
      "metadata": {}
    },
    {
      "cell_type": "markdown",
      "source": "phython R & SQL (are the most common)\nScala java c++ julia\nJS php GO Ruby Visual Basic (Have Unique use cases)",
      "metadata": {}
    },
    {
      "cell_type": "markdown",
      "source": "(Python)Scientific Computing Library: Pandas, NumPy\n(Python)Visualization Library: Matplotlib, Seaborn\n(Python)High-level Machine Learning and deep learning libraries: Scikit-learn, Keras\n(Python)Deep Learning: TensorFlow, PyTorch\nLibraries in other Languages: Apache Spark, VEGAS, BigDL, ggplot2\n",
      "metadata": {}
    },
    {
      "cell_type": "markdown",
      "source": "| Python | R | Git |\n",
      "metadata": {}
    },
    {
      "cell_type": "markdown",
      "source": "introducing arithmetic expression",
      "metadata": {}
    },
    {
      "cell_type": "code",
      "source": "(20+5)*4",
      "metadata": {
        "trusted": true
      },
      "execution_count": 4,
      "outputs": [
        {
          "execution_count": 4,
          "output_type": "execute_result",
          "data": {
            "text/plain": "100"
          },
          "metadata": {}
        }
      ]
    },
    {
      "cell_type": "code",
      "source": "minutes = 360\nminutes/60",
      "metadata": {
        "trusted": true
      },
      "execution_count": 6,
      "outputs": [
        {
          "execution_count": 6,
          "output_type": "execute_result",
          "data": {
            "text/plain": "6.0"
          },
          "metadata": {}
        }
      ]
    },
    {
      "cell_type": "markdown",
      "source": "Objectives: Is the notebook publicly viewable?\n\nAre there, or do there appear to be, at least 8 Markdown cells and 2 code cells? \n\nAre the criteria for each cell fulfilled, as described in the \"Guidelines for Submission\"?",
      "metadata": {}
    },
    {
      "cell_type": "markdown",
      "source": "Author: Rohan Balaji",
      "metadata": {}
    },
    {
      "cell_type": "code",
      "source": "",
      "metadata": {},
      "execution_count": null,
      "outputs": []
    }
  ]
}